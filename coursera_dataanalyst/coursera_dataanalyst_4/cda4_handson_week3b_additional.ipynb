{
 "cells": [
  {
   "cell_type": "markdown",
   "metadata": {},
   "source": [
    "# Additional excercises to practice on conditions, branching, loops"
   ]
  },
  {
   "cell_type": "markdown",
   "metadata": {},
   "source": [
    "#### Exercise 1: Print First 10 natural numbers using while loop"
   ]
  },
  {
   "cell_type": "code",
   "execution_count": 10,
   "metadata": {},
   "outputs": [
    {
     "name": "stdout",
     "output_type": "stream",
     "text": [
      "0\n",
      "1\n",
      "2\n",
      "3\n",
      "4\n",
      "5\n",
      "6\n",
      "7\n",
      "8\n",
      "9\n",
      "10\n"
     ]
    }
   ],
   "source": [
    "naturalnumbers = [ 0, 1, 2, 3, 4, 5, 6, 7, 8, 9, 10]\n",
    "\n",
    "i = 0\n",
    "number = 0\n",
    "\n",
    "while(number <= 9): #9 perchè naturalnumber 10 ha i indice = 9\n",
    "    number = naturalnumbers[i]\n",
    "    i = i + 1\n",
    "    print(number)"
   ]
  },
  {
   "cell_type": "markdown",
   "metadata": {},
   "source": [
    "#### Exercise 2: Print the following pattern"
   ]
  },
  {
   "cell_type": "code",
   "execution_count": 13,
   "metadata": {},
   "outputs": [
    {
     "name": "stdout",
     "output_type": "stream",
     "text": [
      "[1]\n",
      "[1, 2]\n",
      "[1, 2, 3]\n",
      "[1, 2, 3, 4]\n",
      "[1, 2, 3, 4, 5]\n"
     ]
    }
   ],
   "source": [
    "naturalnumbers = [ 1, 2, 3, 4, 5]\n",
    "naturalnumbersnew = []\n",
    "\n",
    "for i in range(0,5):\n",
    "    naturalnumbersnew.append(naturalnumbers[i])\n",
    "    print(naturalnumbersnew)\n",
    "    i = i + 1"
   ]
  },
  {
   "cell_type": "markdown",
   "metadata": {},
   "source": [
    "#### Exercise 3: Write a for loop so that every item in the list is printed."
   ]
  },
  {
   "cell_type": "code",
   "execution_count": 24,
   "metadata": {},
   "outputs": [
    {
     "name": "stdout",
     "output_type": "stream",
     "text": [
      "koala\n",
      "cat\n",
      "fox\n",
      "panda\n",
      "chipmunk\n",
      "sloth\n",
      "penguin\n",
      "dolphin\n"
     ]
    }
   ],
   "source": [
    "lst=[\"koala\", \"cat\", \"fox\", \"panda\", \"chipmunk\", \"sloth\", \"penguin\", \"dolphin\"]\n",
    "\n",
    "for i in range(0,len(lst)):\n",
    "    print(lst[i])\n",
    "    "
   ]
  },
  {
   "cell_type": "markdown",
   "metadata": {},
   "source": [
    "#### Exercise 4: Write a for loop which print \"Hello!, \" plus each name in the list. i.e.: \"Hello!, Sam\""
   ]
  },
  {
   "cell_type": "code",
   "execution_count": 27,
   "metadata": {},
   "outputs": [
    {
     "name": "stdout",
     "output_type": "stream",
     "text": [
      "Hello! Sam\n",
      "Hello! Lisa\n",
      "Hello! Micha\n",
      "Hello! Dave\n",
      "Hello! Wyatt\n",
      "Hello! Emma\n",
      "Hello! Sage\n"
     ]
    }
   ],
   "source": [
    "lst=[\"Sam\", \"Lisa\", \"Micha\", \"Dave\", \"Wyatt\", \"Emma\", \"Sage\"]\n",
    "\n",
    "for i in range(0, len(lst)):\n",
    "    print(\"Hello!\", lst[i])\n"
   ]
  },
  {
   "cell_type": "markdown",
   "metadata": {},
   "source": [
    "#### Exercise 5: Write a for loop that iterates through a string and prints every letter."
   ]
  },
  {
   "cell_type": "code",
   "execution_count": 29,
   "metadata": {},
   "outputs": [
    {
     "ename": "SyntaxError",
     "evalue": "invalid syntax (<ipython-input-29-c14cf04d949c>, line 3)",
     "output_type": "error",
     "traceback": [
      "\u001b[1;36m  File \u001b[1;32m\"<ipython-input-29-c14cf04d949c>\"\u001b[1;36m, line \u001b[1;32m3\u001b[0m\n\u001b[1;33m    for i in str\u001b[0m\n\u001b[1;37m                ^\u001b[0m\n\u001b[1;31mSyntaxError\u001b[0m\u001b[1;31m:\u001b[0m invalid syntax\n"
     ]
    }
   ],
   "source": [
    "str=\"Antarctica\"\n",
    "\n",
    "for i in str\n",
    "    print(i)"
   ]
  },
  {
   "cell_type": "code",
   "execution_count": 30,
   "metadata": {},
   "outputs": [
    {
     "ename": "SyntaxError",
     "evalue": "invalid syntax (<ipython-input-30-8715a7616023>, line 1)",
     "output_type": "error",
     "traceback": [
      "\u001b[1;36m  File \u001b[1;32m\"<ipython-input-30-8715a7616023>\"\u001b[1;36m, line \u001b[1;32m1\u001b[0m\n\u001b[1;33m    https://holypython.com/intermediate-python-exercises/exercise-8-python-for-loop/\u001b[0m\n\u001b[1;37m          ^\u001b[0m\n\u001b[1;31mSyntaxError\u001b[0m\u001b[1;31m:\u001b[0m invalid syntax\n"
     ]
    }
   ],
   "source": [
    "https://holypython.com/intermediate-python-exercises/exercise-8-python-for-loop/"
   ]
  },
  {
   "cell_type": "code",
   "execution_count": null,
   "metadata": {},
   "outputs": [],
   "source": []
  }
 ],
 "metadata": {
  "kernelspec": {
   "display_name": "Python 3",
   "language": "python",
   "name": "python3"
  },
  "language_info": {
   "codemirror_mode": {
    "name": "ipython",
    "version": 3
   },
   "file_extension": ".py",
   "mimetype": "text/x-python",
   "name": "python",
   "nbconvert_exporter": "python",
   "pygments_lexer": "ipython3",
   "version": "3.8.5"
  }
 },
 "nbformat": 4,
 "nbformat_minor": 4
}
