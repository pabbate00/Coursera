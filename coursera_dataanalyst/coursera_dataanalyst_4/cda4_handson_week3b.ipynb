{
 "cells": [
  {
   "cell_type": "markdown",
   "metadata": {},
   "source": [
    "# Loops"
   ]
  },
  {
   "cell_type": "markdown",
   "metadata": {},
   "source": [
    "#### For"
   ]
  },
  {
   "cell_type": "code",
   "execution_count": 4,
   "metadata": {},
   "outputs": [
    {
     "name": "stdout",
     "output_type": "stream",
     "text": [
      "1982\n",
      "1980\n",
      "1973\n",
      "Len of date is: 3\n"
     ]
    }
   ],
   "source": [
    "# For loop example\n",
    "\n",
    "date = [1982,1980,1973]\n",
    "N = len(date)\n",
    "\n",
    "for i in range(N):\n",
    "    print(date[i])\n",
    "print(\"Len of date is:\", N)"
   ]
  },
  {
   "cell_type": "code",
   "execution_count": 5,
   "metadata": {},
   "outputs": [
    {
     "name": "stdout",
     "output_type": "stream",
     "text": [
      "0\n",
      "1\n",
      "2\n",
      "3\n",
      "4\n",
      "5\n",
      "6\n",
      "7\n"
     ]
    }
   ],
   "source": [
    "# Example of for loop\n",
    "\n",
    "for i in range(0, 8):\n",
    "    print(i)"
   ]
  },
  {
   "cell_type": "code",
   "execution_count": 7,
   "metadata": {},
   "outputs": [
    {
     "name": "stdout",
     "output_type": "stream",
     "text": [
      "Francesco Totti\n",
      "Francesco Totti\n",
      "Francesco Totti\n",
      "Francesco Totti\n",
      "Francesco Totti\n"
     ]
    }
   ],
   "source": [
    "# Example\n",
    "\n",
    "N = 5\n",
    "\n",
    "for i in range(N):\n",
    "    print(\"Francesco Totti\")"
   ]
  },
  {
   "cell_type": "code",
   "execution_count": 11,
   "metadata": {},
   "outputs": [
    {
     "name": "stdout",
     "output_type": "stream",
     "text": [
      "Formazione prima dei cambi 0 è Totti\n",
      "Formazione dopo i cambi 0 è Batistuta\n",
      "Formazione prima dei cambi 1 è De rossi\n",
      "Formazione dopo i cambi 1 è Batistuta\n",
      "Formazione prima dei cambi 2 è Mexes\n",
      "Formazione dopo i cambi 2 è Batistuta\n",
      "Formazione prima dei cambi 3 è Aquilani\n",
      "Formazione dopo i cambi 3 è Batistuta\n",
      "Formazione prima dei cambi 4 è Brunello\n",
      "Formazione dopo i cambi 4 è Batistuta\n"
     ]
    }
   ],
   "source": [
    "#Using for loop to change the elements in list\n",
    "#Sostituzione batistuta per tutti i giocatori\n",
    "\n",
    "formazione = [\"Totti\", \"De rossi\", \"Mexes\", \"Aquilani\", \"Brunello\"]\n",
    "\n",
    "for i in range(0, 5):\n",
    "    print(\"Formazione prima dei cambi\", i,\"è\", formazione[i])\n",
    "    formazione[i] = \"Batistuta\"\n",
    "    print(\"Formazione dopo i cambi\", i,\"è\", formazione[i])"
   ]
  },
  {
   "cell_type": "code",
   "execution_count": 12,
   "metadata": {},
   "outputs": [
    {
     "name": "stdout",
     "output_type": "stream",
     "text": [
      "0 Totti\n",
      "1 De rossi\n",
      "2 Mexes\n",
      "3 Aquilani\n",
      "4 Brunello\n"
     ]
    }
   ],
   "source": [
    "#Loop through the list and iterate on boh index and element value\n",
    "\n",
    "formazione = [\"Totti\", \"De rossi\", \"Mexes\", \"Aquilani\", \"Brunello\"]\n",
    "\n",
    "for i, formazione in enumerate(formazione):\n",
    "    print(i, formazione)"
   ]
  },
  {
   "cell_type": "markdown",
   "metadata": {},
   "source": [
    "#### While"
   ]
  },
  {
   "cell_type": "code",
   "execution_count": 14,
   "metadata": {},
   "outputs": [
    {
     "name": "stdout",
     "output_type": "stream",
     "text": [
      "1982\n",
      "1980\n",
      "1973\n",
      "It took 3 repetitions to get out of the loop.\n"
     ]
    }
   ],
   "source": [
    "#While loop example\n",
    "\n",
    "dates = [1982, 1980, 1973, 2000]\n",
    "\n",
    "i = 0\n",
    "year = 0\n",
    "\n",
    "while(year != 1973):\n",
    "    year = dates[i]\n",
    "    i = i + 1\n",
    "    print(year)\n",
    "    \n",
    "print(\"It took\", i, \"repetitions to get out of the loop.\")"
   ]
  },
  {
   "cell_type": "markdown",
   "metadata": {},
   "source": [
    "#### Quiz"
   ]
  },
  {
   "cell_type": "code",
   "execution_count": 18,
   "metadata": {},
   "outputs": [
    {
     "name": "stdout",
     "output_type": "stream",
     "text": [
      "rock\n",
      "R&B\n",
      "Soundtrack\n",
      "R&B\n",
      "soul\n",
      "pop\n"
     ]
    }
   ],
   "source": [
    "#Print the elements of the list\n",
    "\n",
    "Genres = [\"rock\", \"R&B\", \"Soundtrack\", \"R&B\", \"soul\", \"pop\"]\n",
    "\n",
    "N = len(Genres)\n",
    "\n",
    "for i in range(N):\n",
    "    print(Genres[i])"
   ]
  },
  {
   "cell_type": "code",
   "execution_count": 19,
   "metadata": {},
   "outputs": [
    {
     "name": "stdout",
     "output_type": "stream",
     "text": [
      "rock\n",
      "R&B\n",
      "Soundtrack\n",
      "R&B\n",
      "soul\n",
      "pop\n"
     ]
    }
   ],
   "source": [
    "#Print the elements of the list\n",
    "\n",
    "Genres = [\"rock\", \"R&B\", \"Soundtrack\", \"R&B\", \"soul\", \"pop\"]\n",
    "\n",
    "for Genre in Genres:\n",
    "    print(Genre)"
   ]
  },
  {
   "cell_type": "code",
   "execution_count": 27,
   "metadata": {},
   "outputs": [
    {
     "name": "stdout",
     "output_type": "stream",
     "text": [
      "10\n",
      "9.5\n",
      "10\n",
      "8\n",
      "7.5\n",
      "5\n"
     ]
    }
   ],
   "source": [
    "#Display values grather than 6\n",
    "\n",
    "ratings = [10, 9.5, 10, 8, 7.5, 5, 10, 10]\n",
    "\n",
    "i = 0\n",
    "rate = ratings[0]\n",
    "\n",
    "while (rate >= 6):\n",
    "    rate = ratings[i]\n",
    "    i = i + 1\n",
    "    print(rate)"
   ]
  },
  {
   "cell_type": "code",
   "execution_count": 30,
   "metadata": {},
   "outputs": [
    {
     "name": "stdout",
     "output_type": "stream",
     "text": [
      "['orange', 'orange']\n"
     ]
    }
   ],
   "source": [
    "#Print orange only\n",
    "\n",
    "squares = [\"orange\", \"orange\", \"purple\", \"blue\", \"orange\"]\n",
    "new_squares = []\n",
    "i = 0\n",
    "while(squares[i] == \"orange\"):\n",
    "    new_squares.append(squares[i])\n",
    "    i = i + 1\n",
    "print(new_squares)\n",
    "\n",
    "\n",
    "\n"
   ]
  },
  {
   "cell_type": "code",
   "execution_count": null,
   "metadata": {},
   "outputs": [],
   "source": []
  }
 ],
 "metadata": {
  "kernelspec": {
   "display_name": "Python 3",
   "language": "python",
   "name": "python3"
  },
  "language_info": {
   "codemirror_mode": {
    "name": "ipython",
    "version": 3
   },
   "file_extension": ".py",
   "mimetype": "text/x-python",
   "name": "python",
   "nbconvert_exporter": "python",
   "pygments_lexer": "ipython3",
   "version": "3.8.5"
  }
 },
 "nbformat": 4,
 "nbformat_minor": 4
}
